{
 "cells": [
  {
   "cell_type": "code",
   "execution_count": 1,
   "metadata": {},
   "outputs": [
    {
     "data": {
      "text/html": [
       "<div>\n",
       "<style scoped>\n",
       "    .dataframe tbody tr th:only-of-type {\n",
       "        vertical-align: middle;\n",
       "    }\n",
       "\n",
       "    .dataframe tbody tr th {\n",
       "        vertical-align: top;\n",
       "    }\n",
       "\n",
       "    .dataframe thead th {\n",
       "        text-align: right;\n",
       "    }\n",
       "</style>\n",
       "<table border=\"1\" class=\"dataframe\">\n",
       "  <thead>\n",
       "    <tr style=\"text-align: right;\">\n",
       "      <th></th>\n",
       "      <th>ID</th>\n",
       "      <th>Emotion</th>\n",
       "      <th>Text</th>\n",
       "    </tr>\n",
       "  </thead>\n",
       "  <tbody>\n",
       "    <tr>\n",
       "      <th>0</th>\n",
       "      <td>399172782</td>\n",
       "      <td>angry</td>\n",
       "      <td>Ел жаңалықтарына келсек, Өскемен, Алматы, Қара...</td>\n",
       "    </tr>\n",
       "    <tr>\n",
       "      <th>1</th>\n",
       "      <td>399172782</td>\n",
       "      <td>angry</td>\n",
       "      <td>Олар үйіржұлдыздың тығыздығы жоғары өзек өңірі...</td>\n",
       "    </tr>\n",
       "    <tr>\n",
       "      <th>2</th>\n",
       "      <td>399172782</td>\n",
       "      <td>angry</td>\n",
       "      <td>Оқуымды жақсы бағамен бітіріп, өзімнің туып өс...</td>\n",
       "    </tr>\n",
       "    <tr>\n",
       "      <th>3</th>\n",
       "      <td>399172782</td>\n",
       "      <td>angry</td>\n",
       "      <td>Егер карта бетіне қарап, геофизикалық өлшеммен...</td>\n",
       "    </tr>\n",
       "    <tr>\n",
       "      <th>4</th>\n",
       "      <td>399172782</td>\n",
       "      <td>angry</td>\n",
       "      <td>Жылдық орташа табыстарыңыз қанша?</td>\n",
       "    </tr>\n",
       "  </tbody>\n",
       "</table>\n",
       "</div>"
      ],
      "text/plain": [
       "          ID Emotion                                               Text\n",
       "0  399172782   angry  Ел жаңалықтарына келсек, Өскемен, Алматы, Қара...\n",
       "1  399172782   angry  Олар үйіржұлдыздың тығыздығы жоғары өзек өңірі...\n",
       "2  399172782   angry  Оқуымды жақсы бағамен бітіріп, өзімнің туып өс...\n",
       "3  399172782   angry  Егер карта бетіне қарап, геофизикалық өлшеммен...\n",
       "4  399172782   angry                  Жылдық орташа табыстарыңыз қанша?"
      ]
     },
     "execution_count": 1,
     "metadata": {},
     "output_type": "execute_result"
    }
   ],
   "source": [
    "import pandas as pd\n",
    "import numpy as np\n",
    "import seaborn as sns\n",
    "\n",
    "\n",
    "df = pd.read_csv(\"emotion_text_data.csv\")\n",
    "df.head()"
   ]
  },
  {
   "cell_type": "code",
   "execution_count": 5,
   "metadata": {},
   "outputs": [
    {
     "data": {
      "text/plain": [
       "Emotion\n",
       "neutral     1674\n",
       "sad         1648\n",
       "angry       1637\n",
       "fear        1612\n",
       "happy       1610\n",
       "surprise    1605\n",
       "Name: count, dtype: int64"
      ]
     },
     "execution_count": 5,
     "metadata": {},
     "output_type": "execute_result"
    }
   ],
   "source": [
    "df['Emotion'].value_counts()"
   ]
  },
  {
   "cell_type": "code",
   "execution_count": 7,
   "metadata": {},
   "outputs": [],
   "source": [
    "import neattext.functions as nfx\n",
    "\n",
    "# Remove the user handles\n",
    "df['Clean_Text'] = df['Text'].apply(nfx.remove_userhandles)"
   ]
  },
  {
   "cell_type": "code",
   "execution_count": 8,
   "metadata": {},
   "outputs": [],
   "source": [
    "# Remove the stopwords\n",
    "df['Clean_Text'] = df['Clean_Text'].apply(nfx.remove_stopwords)"
   ]
  },
  {
   "cell_type": "code",
   "execution_count": 11,
   "metadata": {},
   "outputs": [],
   "source": [
    "kazakh_stopwords = [\n",
    "    'мен', 'сен', 'ол', 'біз', 'сіз', 'бұл', 'анау', 'және', 'бірақ', 'немесе', 'осы', 'қалай', 'қандай',\n",
    "    'ма', 'ме', 'па', 'пе', 'е', 'де', 'да', 'та', 'те', 'тағы', 'бол', 'бар', 'жоқ', 'иә', 'жоқ', 'барлық',\n",
    "    'бәрі', 'содан', 'мұнда', 'сонда', 'сондықтан', 'өйткені', 'сондай', 'мұндай', 'әлде', 'қайда', 'неге',\n",
    "    'кім', 'не', 'қанша', 'неше', 'қашан', 'сол', 'мына', 'мысалы', 'менің', 'сенің', 'оның', 'біздің', 'сіздің',\n",
    "    'олардың', 'қасында', 'үстінде', 'астында', 'ішінде', 'сыртында', 'бұл жерде', 'сол жерде', 'әлі', 'барлық',\n",
    "    'ешқандай', 'кейбір', 'осылар', 'солар', 'біреу', 'ешкім', 'әлдеқашан', 'кейде', 'жиі', 'сирек', 'бұған', \n",
    "    'содан кейін', 'бірнеше', 'шамамен', 'яғни', 'қазір', 'мүмкін', 'әрине', 'тағы да', 'енді', 'мұнымен',\n",
    "    'соншалықты', 'тіпті', 'бұрын', 'кейін', 'әр', 'соншама', 'бұлар', 'мұншама', 'бірақ та', 'осында'\n",
    "]\n"
   ]
  },
  {
   "cell_type": "code",
   "execution_count": 12,
   "metadata": {},
   "outputs": [],
   "source": [
    "def remove_kazakh_stopwords(text):\n",
    "    words = text.split()\n",
    "    filtered_words = [word for word in words if word.lower() not in kazakh_stopwords]\n",
    "    return ' '.join(filtered_words)"
   ]
  },
  {
   "cell_type": "code",
   "execution_count": 13,
   "metadata": {},
   "outputs": [],
   "source": [
    "df['Clean_Text'] = df['Clean_Text'].apply(remove_kazakh_stopwords)"
   ]
  },
  {
   "cell_type": "code",
   "execution_count": 14,
   "metadata": {},
   "outputs": [
    {
     "data": {
      "text/html": [
       "<div>\n",
       "<style scoped>\n",
       "    .dataframe tbody tr th:only-of-type {\n",
       "        vertical-align: middle;\n",
       "    }\n",
       "\n",
       "    .dataframe tbody tr th {\n",
       "        vertical-align: top;\n",
       "    }\n",
       "\n",
       "    .dataframe thead th {\n",
       "        text-align: right;\n",
       "    }\n",
       "</style>\n",
       "<table border=\"1\" class=\"dataframe\">\n",
       "  <thead>\n",
       "    <tr style=\"text-align: right;\">\n",
       "      <th></th>\n",
       "      <th>ID</th>\n",
       "      <th>Emotion</th>\n",
       "      <th>Text</th>\n",
       "      <th>Clean_Text</th>\n",
       "    </tr>\n",
       "  </thead>\n",
       "  <tbody>\n",
       "    <tr>\n",
       "      <th>0</th>\n",
       "      <td>399172782</td>\n",
       "      <td>angry</td>\n",
       "      <td>Ел жаңалықтарына келсек, Өскемен, Алматы, Қара...</td>\n",
       "      <td>Ел жаңалықтарына келсек, Өскемен, Алматы, Қара...</td>\n",
       "    </tr>\n",
       "    <tr>\n",
       "      <th>1</th>\n",
       "      <td>399172782</td>\n",
       "      <td>angry</td>\n",
       "      <td>Олар үйіржұлдыздың тығыздығы жоғары өзек өңірі...</td>\n",
       "      <td>Олар үйіржұлдыздың тығыздығы жоғары өзек өңірі...</td>\n",
       "    </tr>\n",
       "    <tr>\n",
       "      <th>2</th>\n",
       "      <td>399172782</td>\n",
       "      <td>angry</td>\n",
       "      <td>Оқуымды жақсы бағамен бітіріп, өзімнің туып өс...</td>\n",
       "      <td>Оқуымды жақсы бағамен бітіріп, өзімнің туып өс...</td>\n",
       "    </tr>\n",
       "    <tr>\n",
       "      <th>3</th>\n",
       "      <td>399172782</td>\n",
       "      <td>angry</td>\n",
       "      <td>Егер карта бетіне қарап, геофизикалық өлшеммен...</td>\n",
       "      <td>Егер карта бетіне қарап, геофизикалық өлшеммен...</td>\n",
       "    </tr>\n",
       "    <tr>\n",
       "      <th>4</th>\n",
       "      <td>399172782</td>\n",
       "      <td>angry</td>\n",
       "      <td>Жылдық орташа табыстарыңыз қанша?</td>\n",
       "      <td>Жылдық орташа табыстарыңыз қанша?</td>\n",
       "    </tr>\n",
       "  </tbody>\n",
       "</table>\n",
       "</div>"
      ],
      "text/plain": [
       "          ID Emotion                                               Text  \\\n",
       "0  399172782   angry  Ел жаңалықтарына келсек, Өскемен, Алматы, Қара...   \n",
       "1  399172782   angry  Олар үйіржұлдыздың тығыздығы жоғары өзек өңірі...   \n",
       "2  399172782   angry  Оқуымды жақсы бағамен бітіріп, өзімнің туып өс...   \n",
       "3  399172782   angry  Егер карта бетіне қарап, геофизикалық өлшеммен...   \n",
       "4  399172782   angry                  Жылдық орташа табыстарыңыз қанша?   \n",
       "\n",
       "                                          Clean_Text  \n",
       "0  Ел жаңалықтарына келсек, Өскемен, Алматы, Қара...  \n",
       "1  Олар үйіржұлдыздың тығыздығы жоғары өзек өңірі...  \n",
       "2  Оқуымды жақсы бағамен бітіріп, өзімнің туып өс...  \n",
       "3  Егер карта бетіне қарап, геофизикалық өлшеммен...  \n",
       "4                  Жылдық орташа табыстарыңыз қанша?  "
      ]
     },
     "execution_count": 14,
     "metadata": {},
     "output_type": "execute_result"
    }
   ],
   "source": [
    "# Remove the stopwords\n",
    "df.head()"
   ]
  },
  {
   "cell_type": "code",
   "execution_count": 15,
   "metadata": {},
   "outputs": [],
   "source": [
    "x = df['Clean_Text']\n",
    "y = df['Emotion']"
   ]
  },
  {
   "cell_type": "code",
   "execution_count": 16,
   "metadata": {},
   "outputs": [],
   "source": [
    "from sklearn.model_selection import train_test_split\n",
    "\n",
    "x_train,x_test,y_train,y_test = train_test_split(x,y,test_size=0.3,random_state=42)"
   ]
  },
  {
   "cell_type": "code",
   "execution_count": 17,
   "metadata": {},
   "outputs": [],
   "source": [
    "from sklearn.pipeline import Pipeline\n",
    "from sklearn.feature_extraction.text import CountVectorizer\n",
    "from sklearn.svm import SVC\n",
    "from sklearn.ensemble import RandomForestClassifier\n",
    "from sklearn.linear_model import LogisticRegression"
   ]
  },
  {
   "cell_type": "code",
   "execution_count": 22,
   "metadata": {},
   "outputs": [
    {
     "data": {
      "text/plain": [
       "0.18290190735694822"
      ]
     },
     "execution_count": 22,
     "metadata": {},
     "output_type": "execute_result"
    }
   ],
   "source": [
    "pipe_lr = Pipeline(steps=[('cv', CountVectorizer()), ('lr', LogisticRegression(class_weight='balanced'))])\n",
    "\n",
    "pipe_lr.fit(x_train,y_train)\n",
    "pipe_lr.score(x_test,y_test)\n",
    "\n"
   ]
  },
  {
   "cell_type": "code",
   "execution_count": 24,
   "metadata": {},
   "outputs": [],
   "source": [
    "pipe_lr = Pipeline(steps=[('cv', CountVectorizer(lowercase=True, stop_words=kazakh_stopwords, max_features=10000)),\n",
    "                          ('lr', LogisticRegression())])"
   ]
  },
  {
   "cell_type": "code",
   "execution_count": 25,
   "metadata": {},
   "outputs": [],
   "source": [
    "pipe_lr = Pipeline(steps=[('cv', CountVectorizer()),\n",
    "                          ('lr', LogisticRegression(C=0.1, solver='liblinear'))])"
   ]
  },
  {
   "cell_type": "code",
   "execution_count": 26,
   "metadata": {},
   "outputs": [],
   "source": [
    "from sklearn.feature_extraction.text import TfidfVectorizer\n",
    "\n",
    "pipe_lr = Pipeline(steps=[('tfidf', TfidfVectorizer(max_features=10000)),\n",
    "                          ('lr', LogisticRegression())])"
   ]
  },
  {
   "cell_type": "code",
   "execution_count": 27,
   "metadata": {},
   "outputs": [
    {
     "data": {
      "text/plain": [
       "array([0.16350365, 0.17518248, 0.14671533, 0.1620438 , 0.16934307])"
      ]
     },
     "execution_count": 27,
     "metadata": {},
     "output_type": "execute_result"
    }
   ],
   "source": [
    "from sklearn.model_selection import cross_val_score\n",
    "\n",
    "cross_val_score(pipe_lr, x_train, y_train, cv=5)"
   ]
  },
  {
   "cell_type": "code",
   "execution_count": 28,
   "metadata": {},
   "outputs": [
    {
     "data": {
      "text/plain": [
       "0.18119891008174388"
      ]
     },
     "execution_count": 28,
     "metadata": {},
     "output_type": "execute_result"
    }
   ],
   "source": [
    "from sklearn.naive_bayes import MultinomialNB\n",
    "\n",
    "pipe_nb = Pipeline(steps=[('tfidf', TfidfVectorizer()), ('nb', MultinomialNB())])\n",
    "pipe_nb.fit(x_train, y_train)\n",
    "pipe_nb.score(x_test, y_test)"
   ]
  },
  {
   "cell_type": "code",
   "execution_count": 29,
   "metadata": {},
   "outputs": [
    {
     "name": "stdout",
     "output_type": "stream",
     "text": [
      "Emotion\n",
      "neutral     1183\n",
      "sad         1166\n",
      "surprise    1140\n",
      "fear        1138\n",
      "angry       1117\n",
      "happy       1106\n",
      "Name: count, dtype: int64\n"
     ]
    }
   ],
   "source": [
    "print(y_train.value_counts())"
   ]
  },
  {
   "cell_type": "code",
   "execution_count": 30,
   "metadata": {},
   "outputs": [],
   "source": [
    "pipe_lr = Pipeline(steps=[('tfidf', TfidfVectorizer(ngram_range=(1, 2))),\n",
    "                          ('lr', LogisticRegression())])\n"
   ]
  }
 ],
 "metadata": {
  "kernelspec": {
   "display_name": "base",
   "language": "python",
   "name": "python3"
  },
  "language_info": {
   "codemirror_mode": {
    "name": "ipython",
    "version": 3
   },
   "file_extension": ".py",
   "mimetype": "text/x-python",
   "name": "python",
   "nbconvert_exporter": "python",
   "pygments_lexer": "ipython3",
   "version": "3.11.7"
  }
 },
 "nbformat": 4,
 "nbformat_minor": 2
}
